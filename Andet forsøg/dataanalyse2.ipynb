{
 "cells": [
  {
   "cell_type": "code",
   "execution_count": 1,
   "metadata": {},
   "outputs": [],
   "source": [
    "import pandas as pd\n",
    "import numpy as np\n",
    "import matplotlib.pyplot as plt\n",
    "\n",
    "from scipy.signal import find_peaks\n",
    "from scipy.optimize import curve_fit"
   ]
  },
  {
   "cell_type": "markdown",
   "metadata": {},
   "source": [
    "# OBS\n",
    "Disse data er taget med et nyt setup (stadig Leybold). $A_{DC} = 0.781$ A, $A_{AC} = 0.373$ A.\n",
    "\n",
    "\n",
    "Ved dette setup satte jeg HH-spolen oven på et par sokler så prøven lå endnu mere i midten af den. Det lader til at have løst vores problem, nu giver R_LB=2.5 nemlig tabelværdien $\\gamma$."
   ]
  },
  {
   "cell_type": "markdown",
   "metadata": {},
   "source": [
    "# Konstanter"
   ]
  },
  {
   "cell_type": "code",
   "execution_count": 2,
   "metadata": {},
   "outputs": [],
   "source": [
    "# Modstanden i HH-spolen\n",
    "R_HH_CONST = 2  # Ohm\n",
    "SIGMA_R_HH_CONST = 0.001  # Ohm\n",
    "\n",
    "# Antal vindinger i HH-spolen\n",
    "N_CONST = 124  # Vindinger\n",
    "SIGMA_N_CONST = 4  # Vindinger\n",
    "\n",
    "# Diameter af HH-spolen\n",
    "D_CONST = 0.28 # m\n",
    "SIGMA_D_CONST = 0.01  # m\n",
    "\n",
    "# Vacuum permeabiliteten\n",
    "mu_0 = 1.2566 * 10 **(-6) # N/A^2"
   ]
  },
  {
   "cell_type": "markdown",
   "metadata": {},
   "source": [
    "# Hjælpefunktioner"
   ]
  },
  {
   "cell_type": "code",
   "execution_count": 3,
   "metadata": {},
   "outputs": [],
   "source": [
    "def error_on_the_mean(data, n):\n",
    "    \"\"\"\n",
    "    Returnerer gennemsnit og usikkerhed på gennemsnittet for et datasæt.\n",
    "    \"\"\"\n",
    "    return (np.mean(data), np.std(data) / np.sqrt(n))"
   ]
  },
  {
   "cell_type": "code",
   "execution_count": 4,
   "metadata": {},
   "outputs": [],
   "source": [
    "def voltage_to_current(V, R_LB, R_HH):\n",
    "    \"\"\"\n",
    "    Returnerer strømmen I givet spænding V og modstande R_LB og R_HH\n",
    "    \"\"\"\n",
    "    return V / (R_LB + R_HH)"
   ]
  },
  {
   "cell_type": "code",
   "execution_count": null,
   "metadata": {},
   "outputs": [],
   "source": [
    "def current_error(V, R_LB, R_HH, sigma_V, sigma_R_HH):\n",
    "    \"\"\"\n",
    "    Returnerer usikkerhed på strømmen jvf. ophobningsloven.\n",
    "    \"\"\"\n",
    "    return np.sqrt( (sigma_V**2)/(R_LB + R_HH)**2 + (V * sigma_R_HH)**2/(R_LB + R_HH)**4 )"
   ]
  },
  {
   "cell_type": "code",
   "execution_count": 6,
   "metadata": {},
   "outputs": [],
   "source": [
    "def current_to_magnetic_field(I, mu_0, n, d):\n",
    "    \"\"\"\n",
    "    Returnerer stykren af det magnetiske felt i HH-spolen\n",
    "    \"\"\"\n",
    "    return ((n * mu_0 * I)/d)*(4/5)**(3/2)\n"
   ]
  },
  {
   "cell_type": "code",
   "execution_count": 7,
   "metadata": {},
   "outputs": [],
   "source": [
    "def magnetic_field_error(I, mu_0, n, d, sigma_I, sigma_d, sigma_n):\n",
    "    \"\"\"\n",
    "    Returnerer usikkerhed på styrken af det magnetiske felt i HH-spolen (fundet med ophobningsloven)\n",
    "    \"\"\"\n",
    "    return (4/5)**(3/2)*np.sqrt((n**2 * mu_0**2 * I**2 * sigma_I**2)/(d**2) + (mu_0**2 * I**2 * sigma_n**2)/(d**2) + (n**2 * mu_0**2 * I**2 * sigma_d**2)/(d**4))\n"
   ]
  },
  {
   "cell_type": "code",
   "execution_count": 8,
   "metadata": {},
   "outputs": [],
   "source": [
    "\n",
    "def lin_func(x, a, b):\n",
    "    \"Lineær funktion til curve_fit\"\n",
    "    return a * x + b"
   ]
  },
  {
   "cell_type": "code",
   "execution_count": 9,
   "metadata": {},
   "outputs": [],
   "source": [
    "def chi_squared(x, y, yerr, func, params):\n",
    "    \"\"\"\n",
    "    Returnerer chi^2-værdien for et datasæt og en funktion.\n",
    "    \"\"\"\n",
    "    return np.sum(((y - func(x, params[0], params[1])) / yerr)**2)"
   ]
  },
  {
   "cell_type": "code",
   "execution_count": 10,
   "metadata": {},
   "outputs": [],
   "source": [
    "def reduced_chi_squared(x, y, yerr, func, params, n):\n",
    "    \"\"\"\n",
    "    Returnerer den reducerede chi^2-værdi for et datasæt og en funktion.\n",
    "\n",
    "    n er antallet af frie parametre i funktionen.\n",
    "    \"\"\"\n",
    "    \n",
    "    return chi_squared(x, y, yerr, func, params) / (len(x) - n)"
   ]
  },
  {
   "cell_type": "code",
   "execution_count": 11,
   "metadata": {},
   "outputs": [],
   "source": [
    "def analyze_csv(file_location, height=0.1, prominence=0.4, distance=400):\n",
    "    \"\"\"\n",
    "    Analyserer en CSV-fil og finder peaks i kanal B data.\n",
    "\n",
    "    Input:\n",
    "        file_location (str): Filstien til CSV-filen.\n",
    "        height (float): Minimumshøjde af peaks (svarer til hvor langt under 0 V peaksne mindst skal være).\n",
    "        prominence (float): Styrer hvor 'fremtrædende' peaks skal være for at blive detekteret.\n",
    "        distance (int): Minimum afstand (i indeks!). Dvs. antal målinger mellem peaks.\n",
    "\n",
    "    Output:\n",
    "        dict: Et dictionary der indeholder arrays med rådata, placeringen af peaksne og værdien af kanal A ved peaksne (time_arr, voltage_arr_A, voltage_arr_B, peaks, voltage_A_at_peaks).\n",
    "    \"\"\"\n",
    "    # Load data from CSV file\n",
    "    data = pd.read_csv(file_location, header=[0, 1])\n",
    "    time_arr = data.iloc[:, 0].to_numpy()\n",
    "    voltage_arr_A = data.iloc[:, 1].to_numpy()\n",
    "    voltage_arr_B = data.iloc[:, 2].to_numpy()\n",
    "\n",
    "    # Find peaks i kanal B data\n",
    "    peaks, _ = find_peaks(-voltage_arr_B, height=height, prominence=prominence, distance=distance)\n",
    "\n",
    "    # Debug: Print antal peaks fundet\n",
    "    # print(f\"Fandt {len(peaks)} peaks i '{file_location}'\")\n",
    "\n",
    "    # # Plot data med peaks\n",
    "    # plt.figure(figsize=(10, 5))\n",
    "    # plt.plot(time_arr, voltage_arr_A, label='Voltage A')\n",
    "    # plt.plot(time_arr, voltage_arr_B, label='Voltage B')\n",
    "    # plt.plot(time_arr[peaks], voltage_arr_B[peaks], \"x\", label='Peaks', color='red', markersize=8)\n",
    "    # plt.xlabel('Time (ms)')\n",
    "    # plt.ylabel('Voltage (V)')\n",
    "    # plt.title('Voltage vs Time')\n",
    "    # plt.legend()\n",
    "    # plt.grid()\n",
    "    # plt.show()\n",
    "\n",
    "    # Returner data og peaks, samt kanal A værdier ved peaks\n",
    "    return {\n",
    "        \"time\": time_arr,\n",
    "        \"voltage_A\": voltage_arr_A,\n",
    "        \"voltage_B\": voltage_arr_B,\n",
    "        \"peaks\": peaks,\n",
    "        \"voltage_A_at_peaks\": voltage_arr_A[peaks]\n",
    "    }"
   ]
  },
  {
   "cell_type": "markdown",
   "metadata": {},
   "source": [
    "# Fitning af data med forskellige værdier af R_LB"
   ]
  },
  {
   "cell_type": "code",
   "execution_count": 12,
   "metadata": {},
   "outputs": [],
   "source": [
    "# Indeholder alle frekvenserne vi har målt ved i MHz\n",
    "frequency_list = [15.2, 15.6, 15.8, 16.1, 16.4, 16.7, 17.1, 17.4, 17.6, 17.9, 18.1, 18.5, 18.6, 19.0, 19.5, 19.8, 20.2, 20.5, 20.9, 21.3, 21.6, 22.2, 22.8, 23.2]\n",
    "\n",
    "frequency_list_HZ = np.array(frequency_list) * 10**6 * 2*np.pi  # Konverter til vinkelfrekvenser i rad/s\n",
    "\n",
    "# En liste med alle filnavne i formatet xx MHz.csv\n",
    "file_list = [f\"DATA_ANDET_FORSØG/{str(freq)} MHz.csv\" for freq in frequency_list]"
   ]
  },
  {
   "cell_type": "code",
   "execution_count": 13,
   "metadata": {},
   "outputs": [],
   "source": [
    "# Finder spændingen ved forskellige frekvenser vha. peak finding i kanal B data.\n",
    "\n",
    "voltage_A_averages = []\n",
    "voltage_A_errors = []\n",
    "\n",
    "for file_location in file_list:\n",
    "    # Analyser CSV-filen og gem resultaterne\n",
    "    result = analyze_csv(file_location)\n",
    "    \n",
    "    # Beregn gennemsnit og usikkerhed for kanal A ved peaks\n",
    "    voltage_A_mean, voltage_A_error = error_on_the_mean(result[\"voltage_A_at_peaks\"], len(result[\"peaks\"]))\n",
    "    \n",
    "    # Gem resultaterne\n",
    "    voltage_A_averages.append(voltage_A_mean)\n",
    "    voltage_A_errors.append(voltage_A_error)\n",
    "\n",
    "# Konverter til numpy arrays for nemmere håndtering\n",
    "voltage_A_averages = np.array(voltage_A_averages)\n",
    "voltage_A_errors = np.array(voltage_A_errors)"
   ]
  },
  {
   "cell_type": "code",
   "execution_count": 14,
   "metadata": {},
   "outputs": [
    {
     "name": "stdout",
     "output_type": "stream",
     "text": [
      "--- Analyserer data for R_LB = 0 Ohm ---\n",
      "Fittets parametre for RL_B = 0 a = 1.02e-11 ± 9e-13, b = -1.4e-05 ± 1e-04\n",
      "Gamma for R_LB = 0 er 9.79e+10 ± 9e+09 (rad/s T)\n",
      "Gamma for R_LB = 0 er 1.56e+10 ± 2e+08 (Hz/T)\n",
      "Reduceret chi^2-værdi for 0 er 0.01\n",
      "\n",
      "\n",
      "--- Analyserer data for R_LB = 2.5 Ohm ---\n",
      "Fittets parametre for RL_B = 2.5 a = 4.54e-12 ± 4e-13, b = -6.2e-06 ± 4e-05\n",
      "Gamma for R_LB = 2.5 er 2.20e+11 ± 2e+10 (rad/s T)\n",
      "Gamma for R_LB = 2.5 er 3.51e+10 ± 5e+08 (Hz/T)\n",
      "Reduceret chi^2-værdi for 2.5 er 0.01\n",
      "\n",
      "\n",
      "--- Analyserer data for R_LB = 5 Ohm ---\n",
      "Fittets parametre for RL_B = 5 a = 2.92e-12 ± 2e-13, b = -4.0e-06 ± 3e-05\n",
      "Gamma for R_LB = 5 er 3.43e+11 ± 3e+10 (rad/s T)\n",
      "Gamma for R_LB = 5 er 5.46e+10 ± 7e+08 (Hz/T)\n",
      "Reduceret chi^2-værdi for 5 er 0.01\n",
      "\n",
      "\n"
     ]
    },
    {
     "data": {
      "image/png": "[encoded data removed]",
      "text/plain": [
       "<Figure size 1000x500 with 1 Axes>"
      ]
     },
     "metadata": {},
     "output_type": "display_data"
    }
   ],
   "source": [
    "def main(file_list, R_LB=5, R_HH=2, sigma_R_HH=0.001, n=122, sigma_n=2, d=0.3, sigma_d=0.01):\n",
    "    \"\"\"\n",
    "    Hovedfunktion til at analysere data fra CSV-filerne. Laver et fit for en given værdi af R_LB (spøgelsesmodstanden/\"ghost resistance\") og returnerer parametrene for det lineære fit, samt værdierne for magnetfeltsstyrken som funktion af frekvensen og dens usikkerhed.\n",
    "\n",
    "    R_LB er modstanden i Leybold supply-boksen. Enten 0, 2.5 eller 5 ohm.\n",
    "    \"\"\"\n",
    "    print(f\"--- Analyserer data for R_LB = {R_LB} Ohm ---\")\n",
    "    \n",
    "    # Omregning til strøm\n",
    "    current_A_averages = []\n",
    "    current_A_errors = []\n",
    "\n",
    "    for i in range(len(voltage_A_averages)):\n",
    "        V = voltage_A_averages[i]\n",
    "        sigma_V = voltage_A_errors[i]\n",
    "        I = voltage_to_current(V, R_LB=R_LB, R_HH=R_HH)\n",
    "        I_error = current_error(V, R_LB=R_LB, R_HH=R_HH, sigma_V=sigma_V, sigma_R_HH=sigma_R_HH)\n",
    "        current_A_averages.append(I)\n",
    "        current_A_errors.append(I_error)\n",
    "\n",
    "    # Konverter til numpy arrays for nemmere håndtering\n",
    "    current_A_averages = np.array(current_A_averages)\n",
    "    current_A_errors = np.array(current_A_errors)\n",
    "\n",
    "    # Omregning til magnetfeltsstyrke af magnetfeltet fra HH-spolen\n",
    "    HH_B_averages = []\n",
    "    HH_B_errors = []\n",
    "\n",
    "    for i in range(len(current_A_averages)):\n",
    "        I = current_A_averages[i]\n",
    "        sigma_I = current_A_errors[i]\n",
    "        B = current_to_magnetic_field(I=I, mu_0=mu_0, n=n, d=d)\n",
    "        B_error = magnetic_field_error(I=I, mu_0=mu_0, n=n, d=d, sigma_I=sigma_I, sigma_d=sigma_d, sigma_n=sigma_n)\n",
    "        HH_B_averages.append(B)\n",
    "        HH_B_errors.append(B_error)\n",
    "\n",
    "    # Konverter til numpy arrays for nemmere håndtering\n",
    "    HH_B_averages = np.array(HH_B_averages)\n",
    "    HH_B_errors = np.array(HH_B_errors)\n",
    "\n",
    "    # Fitning af data\n",
    "    popt, pcov = curve_fit(lin_func, frequency_list_HZ, HH_B_averages, sigma=HH_B_errors, absolute_sigma=True)\n",
    "    a_fit, b_fit = popt\n",
    "\n",
    "    # Find usikkerhed på fitparametre\n",
    "    perr = np.sqrt(np.diag(pcov))\n",
    "    print(f\"Fittets parametre for RL_B = {R_LB} a = {a_fit:.2e} ± {perr[0]:.0e}, b = {b_fit:.1e} ± {perr[1]:.0e}\")\n",
    "\n",
    "    gamma = 1/a_fit\n",
    "    gamma_error = np.sqrt(perr[0]**2 / a_fit**4)\n",
    "\n",
    "    print(f\"Gamma for R_LB = {R_LB} er {gamma:.2e} ± {gamma_error:.0e} (rad/s T)\")\n",
    "\n",
    "    # omega = 2 * pi * f så f = omega / (2 * pi)\n",
    "    # Omregn vinkelfrekvens til frekvens\n",
    "    gamma_Hz = gamma / (2 * np.pi)\n",
    "    gamma_Hz_error = gamma_error / (2 * np.pi)**2\n",
    "    print(f\"Gamma for R_LB = {R_LB} er {gamma_Hz:.2e} ± {gamma_Hz_error:.0e} (Hz/T)\")\n",
    "\n",
    "    # Find chi^2-værdi\n",
    "    chi2_value = chi_squared(frequency_list_HZ, HH_B_averages, HH_B_errors, lin_func, params=popt)\n",
    "\n",
    "    # Find reduceret chi^2-værdi\n",
    "    reduced_chi2_value = reduced_chi_squared(frequency_list_HZ, HH_B_averages, HH_B_errors, lin_func, params=popt, n=len(popt))\n",
    "    print(f\"Reduceret chi^2-værdi for {R_LB} er {reduced_chi2_value:.2f}\")\n",
    "    print(\"\\n\")\n",
    "\n",
    "    return {\n",
    "        \"gamma\": gamma,\n",
    "        \"gamma_error\": gamma_error,\n",
    "        \"gamma_Hz\": gamma_Hz,\n",
    "        \"gamma_Hz_error\": gamma_Hz_error,\n",
    "        \"chi2\": chi2_value,\n",
    "        \"reduced_chi2\": reduced_chi2_value,\n",
    "        \"a_fit\": a_fit,\n",
    "        \"b_fit\": b_fit,\n",
    "        \"popt\": popt,\n",
    "        \"pcov\": pcov,\n",
    "        \"frequency_list\": frequency_list,\n",
    "        \"HH_B_averages\": HH_B_averages,\n",
    "        \"HH_B_errors\": HH_B_errors\n",
    "    }\n",
    "    \n",
    "\n",
    "# Værdier for forskellige værdier af R_LB\n",
    "res_0 = main(file_list, R_LB=0, R_HH=R_HH_CONST, sigma_R_HH=SIGMA_R_HH_CONST, n=N_CONST, sigma_n=SIGMA_N_CONST, d=D_CONST, sigma_d=SIGMA_D_CONST) # 0 Ohm Ghost resistance\n",
    "res_2_5 = main(file_list, R_LB=2.5, R_HH=R_HH_CONST, sigma_R_HH=SIGMA_R_HH_CONST, n=N_CONST, sigma_n=SIGMA_N_CONST, d=D_CONST, sigma_d=SIGMA_D_CONST) # 2.5 Ohm Ghost resistance \n",
    "res_5 = main(file_list, R_LB=5, R_HH=R_HH_CONST, sigma_R_HH=SIGMA_R_HH_CONST, n=N_CONST, sigma_n=SIGMA_N_CONST, d=D_CONST, sigma_d=SIGMA_D_CONST) # 5 Ohm Ghost resistance\n",
    "\n",
    "# Plotting af resultaterne for forskellige værdier af R_LB\n",
    "plt.figure(figsize=(10, 5))\n",
    "plt.errorbar(frequency_list_HZ, res_0[\"HH_B_averages\"], yerr=res_0[\"HH_B_errors\"], fmt='o', label=r'$R_{LB} = 0 \\, \\Omega$', capsize=5, ecolor='red')\n",
    "plt.errorbar(frequency_list_HZ, res_2_5[\"HH_B_averages\"], yerr=res_2_5[\"HH_B_errors\"], fmt='o', label=r'$R_{LB} = 2.5 \\, \\Omega$', capsize=5, ecolor='blue')\n",
    "plt.errorbar(frequency_list_HZ, res_5[\"HH_B_averages\"], yerr=res_5[\"HH_B_errors\"], fmt='o', label=r'$R_{LB} = 5 \\, \\Omega$', capsize=5, ecolor='green')\n",
    "plt.plot(frequency_list_HZ, lin_func(np.array(frequency_list_HZ), *res_0[\"popt\"]), color=\"black\", linestyle=\"dashed\")\n",
    "plt.plot(frequency_list_HZ, lin_func(np.array(frequency_list_HZ), *res_2_5[\"popt\"]), color=\"black\", linestyle=\"dashed\")\n",
    "plt.plot(frequency_list_HZ, lin_func(np.array(frequency_list_HZ), *res_5[\"popt\"]), color=\"black\", linestyle=\"dashed\")\n",
    "plt.xlabel(r'$\\omega_0$ (rad/s)')\n",
    "plt.ylabel(r'$B_z$ (T)')\n",
    "plt.title(r'Magnetic field strength vs frequency (at transitions) with fit for different values of $R_{LB}$')\n",
    "plt.grid()\n",
    "plt.legend()\n",
    "plt.show()"
   ]
  }
 ],
 "metadata": {
  "kernelspec": {
   "display_name": "base",
   "language": "python",
   "name": "python3"
  },
  "language_info": {
   "codemirror_mode": {
    "name": "ipython",
    "version": 3
   },
   "file_extension": ".py",
   "mimetype": "text/x-python",
   "name": "python",
   "nbconvert_exporter": "python",
   "pygments_lexer": "ipython3",
   "version": "3.11.4"
  }
 },
 "nbformat": 4,
 "nbformat_minor": 2
}
