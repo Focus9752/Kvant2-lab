{
 "cells": [
  {
   "cell_type": "code",
   "execution_count": 64,
   "id": "44972769",
   "metadata": {},
   "outputs": [],
   "source": [
    "import numpy as np\n",
    "import matplotlib.pyplot as plt\n",
    "import scipy as sc\n",
    "#21.2\n",
    "Low = [16.1 , 16.8 , 17.8 , 18.5 , 19.3 , 20.1 , 21.2 , 21.7 , 22.6 , 23.1 , 23.5 , 24.1 , 25.3 , 25.4]\n",
    "\n",
    "Amplitude = []\n",
    "Udspændt = []\n",
    "stedsted=[]"
   ]
  },
  {
   "cell_type": "code",
   "execution_count": 65,
   "id": "c26c9f2e",
   "metadata": {},
   "outputs": [],
   "source": [
    "for Hz in Low:\n",
    "    Rådata = np.genfromtxt(f\"{Hz} MHz.csv\" , delimiter=',' , skip_header=2)\n",
    "    Tid = Rådata[:,0]* 10**(-3)\n",
    "    CA = Rådata[:,1]\n",
    "    CB = Rådata[:,2]\n",
    "\n",
    "    Periode = 1 / 50\n",
    "    Antal_svingninger = (Tid[-1]-Tid[0]) / Periode \n",
    "\n",
    "    SvingA = []\n",
    "    SvingB = []\n",
    "    for i in range(0,int(Antal_svingninger)):\n",
    "        Maske = (Tid[0] + Periode * i <Tid) & (Tid[0]+ Periode * (i+1) >Tid)\n",
    "        xx = Tid[Maske]\n",
    "        yyA = CA[Maske]\n",
    "        yyB = CB[Maske]\n",
    "        SvingA.append([xx,yyA])\n",
    "        SvingB.append([xx,yyB])\n",
    "    # plt.plot(*SvingA[0])\n",
    "    # plt.plot(*SvingB[0])\n",
    "\n",
    "    Amp = []\n",
    "    Ud = []\n",
    "    for x in range(0,int(Antal_svingninger)):\n",
    "        Amp.append(np.max(SvingB[x][1]))\n",
    "        Ud.append(np.max(SvingA[x][1]))\n",
    "\n",
    "\n",
    "    Udspændt.append([50 , np.mean(Ud) , np.std(Ud)])\n",
    "    Amplitude.append([50 , np.mean(Amp) , np.std(Amp)])\n",
    "\n",
    "\n",
    "    Amplitude_mindre = []\n",
    "    Udspændt_mindre = []\n",
    "    sted = []\n",
    "\n",
    "    SvingA_mindre = []\n",
    "    SvingB_mindre = []\n",
    "\n",
    "    for x in range(0, len(SvingA)):\n",
    "        Maske_mindre = (SvingB[x][0][0] < SvingB[x][0]) & ((SvingB[x][0][int(len(SvingB[x][0])/3)]) >SvingB[x][0])\n",
    "\n",
    "        xx_mindre = SvingB[x][0][Maske_mindre]\n",
    "        yyA_mindre = SvingA[x][1][Maske_mindre]\n",
    "        yyB_mindre = SvingB[x][1][Maske_mindre]\n",
    "        SvingA_mindre.append([xx_mindre,yyA_mindre])\n",
    "        SvingB_mindre.append([xx_mindre,yyB_mindre])\n",
    "\n",
    "        Amp_mindre = []\n",
    "        Ud_mindre = []\n",
    "\n",
    "        Amp_mindre.append(np.min(SvingB_mindre[x][1]))\n",
    "        Ud_mindre.append(np.min(SvingA_mindre[x][1]))\n",
    "\n",
    "\n",
    "\n",
    "        Udspændt_mindre.append([Hz , np.mean(Ud_mindre) , np.std(Ud_mindre)])\n",
    "        Amplitude_mindre.append([Hz , np.mean(Amp_mindre) , np.std(Amp_mindre)])\n",
    "\n",
    "        np.where(Amplitude_mindre[x][1] == SvingB_mindre[x][1])\n",
    "        sted.append(SvingA_mindre[x][1][np.where(Amplitude_mindre[x][1] == SvingB_mindre[x][1])[0][0]])\n",
    "    stedsted.append(sted)\n",
    "\n"
   ]
  },
  {
   "cell_type": "code",
   "execution_count": 66,
   "id": "74e8b5f5",
   "metadata": {},
   "outputs": [
    {
     "data": {
      "text/plain": [
       "14"
      ]
     },
     "execution_count": 66,
     "metadata": {},
     "output_type": "execute_result"
    }
   ],
   "source": [
    "len(stedsted)\n"
   ]
  },
  {
   "cell_type": "code",
   "execution_count": null,
   "id": "59a63c85",
   "metadata": {},
   "outputs": [
    {
     "data": {
      "text/plain": [
       "[<matplotlib.lines.Line2D at 0x268b88708f0>]"
      ]
     },
     "execution_count": 76,
     "metadata": {},
     "output_type": "execute_result"
    },
    {
     "data": {
      "image/png": "[encoded data removed]",
      "text/plain": [
       "<Figure size 640x480 with 1 Axes>"
      ]
     },
     "metadata": {},
     "output_type": "display_data"
    }
   ],
   "source": [
    "ss = []\n",
    "for x in range(0,14):\n",
    "    ss.append(stedsted[x][0])\n",
    "plt.plot(Low, ss, '.')\n",
    "\n"
   ]
  },
  {
   "cell_type": "code",
   "execution_count": 45,
   "id": "8a2280be",
   "metadata": {},
   "outputs": [
    {
     "name": "stdout",
     "output_type": "stream",
     "text": [
      "[8.571428, 7.936033, 8.571428, 8.094729, 8.094729, 8.412122, 8.571428, 8.412122, 8.253426, 7.936033]\n"
     ]
    }
   ],
   "source": [
    "Amplitude_mindre = []\n",
    "Udspændt_mindre = []\n",
    "sted = []\n",
    "\n",
    "SvingA_mindre = []\n",
    "SvingB_mindre = []\n",
    "\n",
    "for x in range(0, len(SvingA)):\n",
    "    for xx in range(0,1):\n",
    "        Maske_mindre = (SvingB[x][0][0] < SvingB[x][0]) & ((SvingB[x][0][int(len(SvingB[x][0])/3)]) >SvingB[x][0])\n",
    "\n",
    "        xx_mindre = SvingB[x][0][Maske_mindre]\n",
    "        yyA_mindre = SvingA[x][1][Maske_mindre]\n",
    "        yyB_mindre = SvingB[x][1][Maske_mindre]\n",
    "        SvingA_mindre.append([xx_mindre,yyA_mindre])\n",
    "        SvingB_mindre.append([xx_mindre,yyB_mindre])\n",
    "\n",
    "        Amp_mindre = []\n",
    "        Ud_mindre = []\n",
    "\n",
    "        Amp_mindre.append(np.min(SvingB_mindre[x][1]))\n",
    "        Ud_mindre.append(np.min(SvingA_mindre[x][1]))\n",
    "\n",
    "\n",
    "\n",
    "        Udspændt_mindre.append([Hz , np.mean(Ud_mindre) , np.std(Ud_mindre)])\n",
    "        Amplitude_mindre.append([Hz , np.mean(Amp_mindre) , np.std(Amp_mindre)])\n",
    "\n",
    "        np.where(Amplitude_mindre[x][1] == SvingB_mindre[x][1])\n",
    "        sted.append(SvingA_mindre[x][1][np.where(Amplitude_mindre[x][1] == SvingB_mindre[x][1])[0][0]])\n",
    "\n",
    "print(sted)"
   ]
  },
  {
   "cell_type": "code",
   "execution_count": null,
   "id": "02ca35a1",
   "metadata": {},
   "outputs": [
    {
     "data": {
      "text/plain": [
       "[<matplotlib.lines.Line2D at 0x268b642b290>]"
      ]
     },
     "execution_count": 44,
     "metadata": {},
     "output_type": "execute_result"
    },
    {
     "data": {
      "image/png": "[encoded data removed]",
      "text/plain": [
       "<Figure size 640x480 with 1 Axes>"
      ]
     },
     "metadata": {},
     "output_type": "display_data"
    }
   ],
   "source": [
    "plt.plot(*SvingB_mindre[2])"
   ]
  },
  {
   "cell_type": "code",
   "execution_count": 126,
   "id": "fcf66f61",
   "metadata": {},
   "outputs": [
    {
     "data": {
      "text/plain": [
       "1"
      ]
     },
     "execution_count": 126,
     "metadata": {},
     "output_type": "execute_result"
    }
   ],
   "source": [
    "A = np.array([1,2,3])\n",
    "np.where(A==2)[0][0]"
   ]
  },
  {
   "cell_type": "code",
   "execution_count": 55,
   "id": "c93b59fa",
   "metadata": {},
   "outputs": [
    {
     "data": {
      "text/plain": [
       "11034"
      ]
     },
     "execution_count": 55,
     "metadata": {},
     "output_type": "execute_result"
    }
   ],
   "source": [
    "len(sc.signal.find_peaks(Rådata[:,2])[0])"
   ]
  },
  {
   "cell_type": "code",
   "execution_count": 118,
   "id": "c04227de",
   "metadata": {},
   "outputs": [
    {
     "data": {
      "text/plain": [
       "array([0.1190222 , 0.1190222 , 0.07934812, ..., 0.        , 0.        ,\n",
       "       0.        ])"
      ]
     },
     "execution_count": 118,
     "metadata": {},
     "output_type": "execute_result"
    }
   ],
   "source": [
    "SvingB_mindre[0][1]"
   ]
  },
  {
   "cell_type": "code",
   "execution_count": 106,
   "id": "53b06c0d",
   "metadata": {},
   "outputs": [
    {
     "data": {
      "text/plain": [
       "array([1.586962, 1.586962, 1.586962, ..., 1.428266, 1.428266, 1.586962])"
      ]
     },
     "execution_count": 106,
     "metadata": {},
     "output_type": "execute_result"
    }
   ],
   "source": [
    "CA"
   ]
  }
 ],
 "metadata": {
  "kernelspec": {
   "display_name": "base",
   "language": "python",
   "name": "python3"
  },
  "language_info": {
   "codemirror_mode": {
    "name": "ipython",
    "version": 3
   },
   "file_extension": ".py",
   "mimetype": "text/x-python",
   "name": "python",
   "nbconvert_exporter": "python",
   "pygments_lexer": "ipython3",
   "version": "3.12.9"
  }
 },
 "nbformat": 4,
 "nbformat_minor": 5
}
